{
 "cells": [
  {
   "cell_type": "code",
   "execution_count": null,
   "metadata": {},
   "outputs": [],
   "source": [
    "DATASET_NAME = \"DRIVE\" # DRIVE, CVC_ClinicDB, LUNGS, ISIC2018\n",
    "CFG_NAME = \"Unet\"\n",
    "# Import libraries\n",
    "\n",
    "import os\n",
    "import matplotlib.pyplot as plt\n",
    "import seaborn as sns\n",
    "sns.set()\n",
    "\n",
    "%matplotlib inline\n",
    "import numpy as np\n",
    "import time\n",
    "from tqdm import tqdm\n",
    "from keras.callbacks import ModelCheckpoint, CSVLogger, EarlyStopping, ReduceLROnPlateau\n",
    "from keras import callbacks\n",
    "from keras import backend as K\n",
    "from sklearn.model_selection import train_test_split\n",
    "from sklearn.model_selection import StratifiedKFold\n",
    "\n",
    "import models as M\n",
    "import losses as l\n",
    "\n",
    "ROOT_DIR = os.path.abspath(\"./\")\n",
    "DATASET_FOLDER = \"npys\"\n",
    "DATASET_PATH = os.path.join(ROOT_DIR, \"datasets\", DATASET_FOLDER)\n",
    "EXPERIMENT_NAME = \"{}_{}\".format(DATASET_NAME, CFG_NAME)\n",
    "\n",
    "if not os.path.exists(os.path.join(ROOT_DIR, \"logs\")):\n",
    "    os.mkdir(os.path.join(ROOT_DIR, \"logs\"))\n",
    "\n",
    "LOG_PATH = os.path.join(ROOT_DIR, \"logs\", EXPERIMENT_NAME)\n",
    "\n",
    "if not os.path.exists(LOG_PATH):\n",
    "    os.mkdir(LOG_PATH)\n",
    "    \n",
    "print(os.listdir(DATASET_PATH))\n",
    "\n",
    "train_data = np.load(\"{}/{}_images.npy\".format(DATASET_PATH, DATASET_NAME)) \n",
    "train_labels = np.load(\"{}/{}_mask.npy\".format(DATASET_PATH, DATASET_NAME))\n",
    "print(train_data.shape, train_labels.shape)"
   ]
  },
  {
   "cell_type": "code",
   "execution_count": null,
   "metadata": {},
   "outputs": [],
   "source": [
    "# Build model\n",
    "model = M.unet(input_size = (train_data.shape[1], \n",
    "            train_data.shape[2], train_data.shape[-1]),\n",
    "                skip_train=None)\n",
    "\n",
    "model.summary()"
   ]
  },
  {
   "cell_type": "code",
   "execution_count": null,
   "metadata": {},
   "outputs": [],
   "source": [
    "# unet: 7759521\n",
    "# gaussunet skip nontrainable: 7759,521 (no extra learable params)\n",
    "# gaussunet skip trainable: 7763841 (gauss layers as extra learnable params)"
   ]
  },
  {
   "cell_type": "code",
   "execution_count": null,
   "metadata": {},
   "outputs": [],
   "source": []
  },
  {
   "cell_type": "code",
   "execution_count": null,
   "metadata": {},
   "outputs": [],
   "source": [
    "import kernels as Kr"
   ]
  },
  {
   "cell_type": "code",
   "execution_count": null,
   "metadata": {},
   "outputs": [],
   "source": [
    "kernel_size = 3\n",
    "sigma = 10"
   ]
  },
  {
   "cell_type": "code",
   "execution_count": null,
   "metadata": {},
   "outputs": [],
   "source": [
    "w = Kr.gauss_2D(shape=(kernel_size, kernel_size),sigma=sigma)\n",
    "w"
   ]
  },
  {
   "cell_type": "code",
   "execution_count": null,
   "metadata": {},
   "outputs": [],
   "source": [
    "plt.grid(False)\n",
    "plt.imshow(w, cmap='plasma')"
   ]
  },
  {
   "cell_type": "code",
   "execution_count": null,
   "metadata": {},
   "outputs": [],
   "source": []
  }
 ],
 "metadata": {
  "kernelspec": {
   "display_name": "Python 3",
   "language": "python",
   "name": "python3"
  },
  "language_info": {
   "codemirror_mode": {
    "name": "ipython",
    "version": 3
   },
   "file_extension": ".py",
   "mimetype": "text/x-python",
   "name": "python",
   "nbconvert_exporter": "python",
   "pygments_lexer": "ipython3",
   "version": "3.6.10"
  }
 },
 "nbformat": 4,
 "nbformat_minor": 4
}
