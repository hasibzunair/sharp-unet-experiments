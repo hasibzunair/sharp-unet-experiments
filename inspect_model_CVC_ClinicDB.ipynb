{
 "cells": [
  {
   "cell_type": "code",
   "execution_count": null,
   "metadata": {},
   "outputs": [],
   "source": [
    "DATASET_NAME = \"3.CVC_ClinicDB_INSPECT\""
   ]
  },
  {
   "cell_type": "code",
   "execution_count": null,
   "metadata": {},
   "outputs": [],
   "source": [
    "# Import libraries\n",
    "\n",
    "import os\n",
    "import matplotlib.pyplot as plt\n",
    "import seaborn as sns\n",
    "sns.set()\n",
    "\n",
    "%matplotlib inline\n",
    "import numpy as np\n",
    "from skimage.transform import resize\n",
    "import time\n",
    "from tqdm import tqdm\n",
    "import cv2\n",
    "from keras.callbacks import ModelCheckpoint, CSVLogger, EarlyStopping, ReduceLROnPlateau\n",
    "from keras import callbacks\n",
    "from keras import backend as K\n",
    "from sklearn.model_selection import train_test_split\n",
    "from sklearn.model_selection import StratifiedKFold\n",
    "from keras.models import load_model\n",
    "from matplotlib.patches import Patch\n",
    "from matplotlib.lines import Line2D\n",
    "\n",
    "import models as M\n",
    "import losses as l\n",
    "\n",
    "ROOT_DIR = os.path.abspath(\"./\")\n",
    "LOG_PATH = os.path.join(ROOT_DIR, \"logs\")\n",
    "TARGET_PATH = os.path.join(LOG_PATH, \"{}\".format(DATASET_NAME))\n",
    "print(os.listdir(TARGET_PATH))"
   ]
  },
  {
   "cell_type": "code",
   "execution_count": null,
   "metadata": {},
   "outputs": [],
   "source": [
    "# Save images here\n",
    "try:\n",
    "    # directory to create\n",
    "    os.mkdir(os.path.join(TARGET_PATH, \"images\"))\n",
    "except FileExistsError:\n",
    "    # directory already exists\n",
    "    pass\n",
    "\n",
    "imgs_path = os.path.join(TARGET_PATH, \"images\")\n",
    "imgs_path"
   ]
  },
  {
   "cell_type": "code",
   "execution_count": null,
   "metadata": {},
   "outputs": [],
   "source": [
    "def read_txt(path, loss):\n",
    "    \n",
    "    data = []\n",
    "    with open(path, 'r') as f:\n",
    "        for line in f:\n",
    "            \n",
    "            if loss != True:\n",
    "                line = float(line[:4]) * 10\n",
    "            else:\n",
    "                line = float(line[:4]) / 10\n",
    "            \n",
    "            data.append(line)\n",
    "        f.close()\n",
    "    \n",
    "    return data"
   ]
  },
  {
   "cell_type": "markdown",
   "metadata": {},
   "source": [
    "### Cross validation best fold plotted"
   ]
  },
  {
   "cell_type": "code",
   "execution_count": null,
   "metadata": {},
   "outputs": [],
   "source": [
    "# Read Jaccard and Loss\n",
    "ujp = read_txt(os.path.join(TARGET_PATH, \"CVC-ClinicDB_Unet_jacard.txt\"), loss=False)\n",
    "ulp = read_txt(os.path.join(TARGET_PATH, \"CVC-ClinicDB_Unet_loss.txt\"), loss=True)\n",
    "gjp = read_txt(os.path.join(TARGET_PATH, \"CVC-ClinicDB_HPF_Unet_jacard.txt\"), loss=False)\n",
    "glp = read_txt(os.path.join(TARGET_PATH, \"CVC-ClinicDB_HPF_Unet_loss.txt\"), loss=True)\n",
    "\n",
    "len(ujp), len(ulp), len(gjp), len(glp)"
   ]
  },
  {
   "cell_type": "code",
   "execution_count": null,
   "metadata": {},
   "outputs": [],
   "source": [
    "interval = min(len(ujp), len(gjp))\n",
    "epochs = range(interval)\n",
    "plt.plot(epochs, ujp[:interval], 'r')\n",
    "plt.plot(epochs, gjp[:interval], 'b')\n",
    "\n",
    "plt.title('Endoscopy Dataset: CVC-ClinicDB')\n",
    "plt.ylabel('Jaccard Index (%)')\n",
    "plt.xlabel('Epochs')\n",
    "plt.legend(['U-Net', 'Edge U-Net'], title=\"Model\", loc='lower right')\n",
    "plt.savefig('{}/CT_jgraph.pdf'.format(TARGET_PATH), dpi=100)"
   ]
  },
  {
   "cell_type": "code",
   "execution_count": null,
   "metadata": {},
   "outputs": [],
   "source": [
    "interval = min(len(ulp), len(glp))\n",
    "epochs = range(interval)\n",
    "plt.plot(epochs, ulp[:interval], 'g')\n",
    "plt.plot(epochs, glp[:interval], 'y')\n",
    "\n",
    "plt.title('Endoscopy Dataset: CVC-ClinicDB')\n",
    "plt.ylabel('Cross Entropy Loss')\n",
    "plt.xlabel('Epochs')\n",
    "plt.legend(['U-Net', 'Edge U-Net'], title=\"Model\", loc='upper left')\n",
    "plt.savefig('{}/CT_lgraph.pdf'.format(TARGET_PATH), dpi=100)"
   ]
  },
  {
   "cell_type": "code",
   "execution_count": null,
   "metadata": {},
   "outputs": [],
   "source": [
    "TARGET_PATH"
   ]
  },
  {
   "cell_type": "code",
   "execution_count": null,
   "metadata": {},
   "outputs": [],
   "source": [
    "# Load Input images and gt masks from Unet\n",
    "images = np.load(\"{}/CVC-ClinicDB_Unet_inputs.npy\".format(TARGET_PATH))\n",
    "masks = np.load(\"{}/CVC-ClinicDB_Unet_masks.npy\".format(TARGET_PATH))\n",
    "p1 = np.load(\"{}/CVC-ClinicDB_Unet_predicted_masks.npy\".format(TARGET_PATH))\n",
    "p2 = np.load(\"{}/CVC-ClinicDB_HPF_Unet_predicted_masks.npy\".format(TARGET_PATH))\n",
    "\n",
    "images.shape, masks.shape, p1.shape, p2.shape"
   ]
  },
  {
   "cell_type": "code",
   "execution_count": null,
   "metadata": {},
   "outputs": [],
   "source": [
    "# Load unet predictions\n",
    "#u_preds = np.load(\"{}/LUNGS2_Unet_predicted_masks.npy\".format(TARGET_PATH))\n",
    "#u_preds.shape\n",
    "# Load Gauss Unet model\n",
    "#model = None\n",
    "#model = load_model(\"{}/LUNGS2_Gauss_Unet.h5\".format(TARGET_PATH), compile=False)\n",
    "#model.summary()\n",
    "# Gauss Unet predictions\n",
    "#preds = model.predict(x=images, verbose=1)\n",
    "#preds = np.round(preds,0)\n",
    "#preds.shape"
   ]
  },
  {
   "cell_type": "code",
   "execution_count": null,
   "metadata": {},
   "outputs": [],
   "source": [
    "# Load model\n",
    "model = None\n",
    "#model = load_model(\"{}/CVC-ClinicDB_Unet.h5\".format(TARGET_PATH), compile=False)\n",
    "model = load_model(\"{}/CVC-ClinicDB_HPF_Unet.h5\".format(TARGET_PATH), compile=False)\n",
    "#model.summary()"
   ]
  },
  {
   "cell_type": "code",
   "execution_count": null,
   "metadata": {},
   "outputs": [],
   "source": [
    "def deprocess_image(x):\n",
    "    \"\"\"Same normalization as in:\n",
    "    https://github.com/fchollet/keras/blob/master/examples/conv_filter_visualization.py\n",
    "    \"\"\"\n",
    "    x = x.copy()\n",
    "    if np.ndim(x) > 3:\n",
    "        x = np.squeeze(x)\n",
    "    # normalize tensor: center on 0., ensure std is 0.1\n",
    "    x -= x.mean()\n",
    "    x /= (x.std() + 1e-5)\n",
    "    x *= 0.1\n",
    "\n",
    "    # clip to [0, 1]\n",
    "    x += 0.5\n",
    "    x = np.clip(x, 0, 1)\n",
    "\n",
    "    # convert to RGB array\n",
    "    x *= 255\n",
    "    if K.image_data_format() == 'th': #keras.backend.image_data_format()\n",
    "        x = x.transpose((1, 2, 0))\n",
    "    x = np.clip(x, 0, 255).astype('uint8')\n",
    "    return x\n",
    "\n",
    "\n",
    "def normalize(x):\n",
    "    \"\"\"Utility function to normalize a tensor by its L2 norm\"\"\"\n",
    "    return (x + 1e-10) / (K.sqrt(K.mean(K.square(x))) + 1e-10)\n",
    "\n",
    "\n",
    "def get_heatmap(gc):\n",
    "  \"\"\"Convert 2D heatmap to 3D for plotting\"\"\"\n",
    "  # Get the color map\n",
    "  cm = plt.get_cmap('jet')\n",
    "  # Apply the colormap like a function to any array:\n",
    "  gc3 = cm(gc)\n",
    "  gc3 = gc3[:, :, :3].astype('float32') \n",
    "  return gc3\n",
    "\n",
    "def grad_cam(input_model, image, cls, layer_name):\n",
    "    \"\"\"GradCAM method for visualizing input saliency.\"\"\"\n",
    "    y_c = input_model.output[0, cls]\n",
    "    conv_output = input_model.get_layer(layer_name).output\n",
    "    grads = K.gradients(y_c, conv_output)[0]\n",
    "    # Normalize if necessary\n",
    "    # grads = normalize(grads)\n",
    "    gradient_function = K.function([input_model.input], [conv_output, grads])\n",
    "\n",
    "    output, grads_val = gradient_function([image])\n",
    "    output, grads_val = output[0, :], grads_val[0, :, :, :]\n",
    "\n",
    "    weights = np.mean(grads_val, axis=(0, 1))\n",
    "    cam = np.dot(output, weights)\n",
    "\n",
    "    # Process CAM\n",
    "    cam = cv2.resize(cam, (image.shape[2], image.shape[1]), cv2.INTER_LINEAR)\n",
    "    cam = np.maximum(cam, 0)\n",
    "    cam = cam / cam.max()\n",
    "    return cam\n",
    "\n",
    "\n",
    "def get_GradCam(image, model, layer_name):\n",
    "    image = np.expand_dims(image, axis=0)\n",
    "    # grad cam\n",
    "    gc = grad_cam(model, image, -1, layer_name)\n",
    "    # convert to 3D\n",
    "    gc = get_heatmap(gc)\n",
    "    return gc"
   ]
  },
  {
   "cell_type": "code",
   "execution_count": null,
   "metadata": {},
   "outputs": [],
   "source": [
    "len(model.layers)"
   ]
  },
  {
   "cell_type": "code",
   "execution_count": null,
   "metadata": {},
   "outputs": [],
   "source": [
    "# for baseline\n",
    "#target_layers = [model.layers[16], model.layers[20], model.layers[24], model.layers[28]] # concat layers\n",
    "\n",
    "# fopr hpf layer\n",
    "target_layers = [model.layers[17], model.layers[22], model.layers[27], model.layers[32]] # concat layers\n",
    "\n",
    "\n",
    "img = images[5]\n",
    "msk = masks[5]\n",
    "maps = [np.dstack((msk,msk,msk))]\n",
    "\n",
    "for layer in target_layers:\n",
    "        print(layer.name)\n",
    "        hm = get_GradCam(img, model, str(layer.name))\n",
    "        maps.append(hm)\n",
    "        \n",
    "maps = np.array(maps)\n",
    "maps.shape"
   ]
  },
  {
   "cell_type": "code",
   "execution_count": null,
   "metadata": {},
   "outputs": [],
   "source": [
    "# Plot images\n",
    "plt.rcParams['figure.figsize'] = (15, 5)\n",
    "#plt.title(\"U-Net\")\n",
    "plt.figsize=(14,12)\n",
    "plt.axis('off')\n",
    "plt.imshow(np.concatenate(maps.transpose((0,1,2,3)),axis=1), interpolation='none')\n",
    "plt.savefig(\"{}/maps_4.png\".format(TARGET_PATH), bbox_inches='tight', pad_inches=0, dpi=200)"
   ]
  },
  {
   "cell_type": "code",
   "execution_count": null,
   "metadata": {},
   "outputs": [],
   "source": []
  },
  {
   "cell_type": "code",
   "execution_count": null,
   "metadata": {},
   "outputs": [],
   "source": []
  },
  {
   "cell_type": "code",
   "execution_count": null,
   "metadata": {},
   "outputs": [],
   "source": [
    "# from mpl_toolkits.axes_grid1 import make_axes_locatable\n",
    "\n",
    "# # Plot masks\n",
    "# fig = plt.figure(1, figsize=(15, 5))\n",
    "# ax = plt.gca()\n",
    "# im = ax.imshow(np.concatenate(maps[:5,:,:,0],axis=1), interpolation='none')\n",
    "# divider = make_axes_locatable(ax) \n",
    "# cax = divider.append_axes(\"right\", size=\"5%\", pad=0.1)\n",
    "# plt.colorbar(im, cax=cax)"
   ]
  },
  {
   "cell_type": "code",
   "execution_count": null,
   "metadata": {},
   "outputs": [],
   "source": []
  },
  {
   "cell_type": "code",
   "execution_count": null,
   "metadata": {},
   "outputs": [],
   "source": []
  },
  {
   "cell_type": "code",
   "execution_count": null,
   "metadata": {},
   "outputs": [],
   "source": []
  },
  {
   "cell_type": "code",
   "execution_count": null,
   "metadata": {},
   "outputs": [],
   "source": []
  },
  {
   "cell_type": "code",
   "execution_count": null,
   "metadata": {},
   "outputs": [],
   "source": [
    "def compute_jac(y, yhat):\n",
    "    intersection = yhat.ravel() * y.ravel()\n",
    "    union = yhat.ravel() + y.ravel() - intersection\n",
    "    jacard = (np.sum(intersection)/np.sum(union))\n",
    "    return jacard"
   ]
  },
  {
   "cell_type": "code",
   "execution_count": null,
   "metadata": {},
   "outputs": [],
   "source": [
    "# Check\n",
    "#compute_jac(masks[0], masks[0])"
   ]
  },
  {
   "cell_type": "code",
   "execution_count": null,
   "metadata": {},
   "outputs": [],
   "source": [
    "from skimage.segmentation import mark_boundaries, find_boundaries"
   ]
  },
  {
   "cell_type": "code",
   "execution_count": null,
   "metadata": {},
   "outputs": [],
   "source": [
    "a = images[0]\n",
    "gt = masks[0]\n",
    "x1 = p1[0]\n",
    "x2 = p2[0]"
   ]
  },
  {
   "cell_type": "code",
   "execution_count": null,
   "metadata": {},
   "outputs": [],
   "source": [
    "# Plot boundary on image\n",
    "\n",
    "from matplotlib.patches import Patch\n",
    "from matplotlib.lines import Line2D\n",
    "\n",
    "legend_elements = [Line2D([3], [3], color='r', lw=3, label='Ground Truth'),\n",
    "                   Line2D([0], [0], color='g', lw=3, label='U-Net'),\n",
    "                   Line2D([0], [0], color='b', lw=3, label='Edge U-Net')\n",
    "                  ]\n",
    "                  \n",
    "ct = 5\n",
    "edges_pz = mark_boundaries(a, gt.squeeze().astype(np.int),color=(1,0,0), mode='thin') # gt\n",
    "edges_pz = mark_boundaries(edges_pz, x1.squeeze().astype(np.int),color=(0,1,0), mode='thin') # unet\n",
    "edges_pz = mark_boundaries(edges_pz, x2.squeeze().astype(np.int),color=(0,0,1), mode='thin') # det unet\n",
    "plt.grid(False)\n",
    "plt.axis('off')\n",
    "plt.legend(handles=legend_elements, loc='lower right', fontsize='small')\n",
    "plt.imshow(edges_pz)\n",
    "plt.savefig(\"{}/test.png\".format(imgs_path), pad_inches=0, bbox_inches='tight', dpi=100)"
   ]
  },
  {
   "cell_type": "code",
   "execution_count": null,
   "metadata": {},
   "outputs": [],
   "source": [
    "ct = 0\n",
    "\n",
    "for idx in range(len(images)):\n",
    "    a = images[idx]\n",
    "    gt = masks[idx]\n",
    "    x1 = p1[idx]\n",
    "    x2 = p2[idx]\n",
    "    \n",
    "    # Plot boundary on image\n",
    "    legend_elements = [Line2D([3], [3], color='r', lw=3, label='Ground Truth'),\n",
    "                       Line2D([0], [0], color='g', lw=3, label='U-Net'),\n",
    "                       Line2D([0], [0], color='b', lw=3, label='Edge U-Net')\n",
    "                      ]\n",
    "    \n",
    "    edges_pz = mark_boundaries(a, gt.squeeze().astype(np.int),color=(1,0,0), mode='thin') # gt\n",
    "    edges_pz = mark_boundaries(edges_pz, x1.squeeze().astype(np.int),color=(0,1,0), mode='thin') # unet\n",
    "    edges_pz = mark_boundaries(edges_pz, x2.squeeze().astype(np.int),color=(0,0,1), mode='thin') # det unet\n",
    "    plt.grid(False)\n",
    "    plt.axis('off')\n",
    "    plt.legend(handles=legend_elements, loc='lower right')\n",
    "    plt.imshow(edges_pz)\n",
    "    plt.savefig(\"{}/out_{}.png\".format(imgs_path, ct), pad_inches=0, bbox_inches='tight', dpi=100)\n",
    "    ct+=1"
   ]
  },
  {
   "cell_type": "code",
   "execution_count": null,
   "metadata": {},
   "outputs": [],
   "source": [
    "u_preds = p1\n",
    "preds = p2"
   ]
  },
  {
   "cell_type": "code",
   "execution_count": null,
   "metadata": {},
   "outputs": [],
   "source": [
    "\n",
    "for i in range(123):\n",
    "    \n",
    "    plt.figure(figsize=(20,10))\n",
    "    plt.subplot(1,5,1)\n",
    "    if len(images[i].shape) >= 2:\n",
    "        plt.grid(False)\n",
    "        plt.axis('off')\n",
    "        plt.imshow(images[i].squeeze(), cmap='gray') # 1-channel image\n",
    "    else:\n",
    "        plt.grid(False)\n",
    "        plt.axis('off')\n",
    "        plt.imshow(images[i]) # 3-channel\n",
    "        \n",
    "    plt.title('Input Image: {}'.format(i), y=-0.15)\n",
    "    plt.subplot(1,5,2)\n",
    "    plt.grid(False)\n",
    "    plt.axis('off')\n",
    "    plt.imshow(masks[i].reshape(masks[i].shape[0],masks[i].shape[1]), cmap='magma')\n",
    "    plt.title('Ground Truth', y=-0.15)\n",
    "    \n",
    "    plt.subplot(1,5,3)\n",
    "    plt.grid(False)\n",
    "    plt.axis('off')\n",
    "    plt.imshow(u_preds[i].reshape(u_preds[i].shape[0],u_preds[i].shape[1]), cmap='magma')\n",
    "    \n",
    "    jac = compute_jac(masks[i], u_preds[i])\n",
    "    plt.title('U-Net ({0:.4f})'.format(jac), y=-0.15)\n",
    "    \n",
    "    plt.subplot(1,5,4)\n",
    "    plt.grid(False)\n",
    "    plt.axis('off')\n",
    "    plt.imshow(preds[i].reshape(preds[i].shape[0],preds[i].shape[1]), cmap='magma')\n",
    "    \n",
    "    jac = compute_jac(masks[i], preds[i])\n",
    "    plt.title('Edge U-Net ({0:.4f})'.format(jac), y=-0.15)\n",
    "    \n",
    "    # Plot boundary on image\n",
    "    legend_elements = [Line2D([3], [3], color='r', lw=3, label='Ground Truth'),\n",
    "                       Line2D([0], [0], color='g', lw=3, label='U-Net'),\n",
    "                       Line2D([0], [0], color='b', lw=3, label='Edge U-Net')\n",
    "                      ]\n",
    "\n",
    "    ct = 5\n",
    "    edges_pz = mark_boundaries(images[i], masks[i].squeeze().astype(np.int),color=(1,0,0), mode='thin') # gt\n",
    "    edges_pz = mark_boundaries(edges_pz, u_preds[i].squeeze().astype(np.int),color=(0,1,0), mode='thin') # unet\n",
    "    edges_pz = mark_boundaries(edges_pz, preds[i].squeeze().astype(np.int),color=(0,0,1), mode='thin') # det unet\n",
    "    plt.subplot(1,5,5)\n",
    "    plt.grid(False)\n",
    "    plt.axis('off')\n",
    "    plt.legend(handles=legend_elements, loc='lower right', fontsize='small')\n",
    "    plt.title('Comparison', y=-0.15)\n",
    "    plt.imshow(edges_pz)\n",
    "    #plt.savefig(\"{}/test.png\".format(imgs_path), pad_inches=0, bbox_inches='tight', dpi=100)\n",
    "    plt.show()\n",
    "    plt.close()"
   ]
  },
  {
   "cell_type": "code",
   "execution_count": null,
   "metadata": {},
   "outputs": [],
   "source": [
    "def plot(i, legend_pos, name):\n",
    "    plt.figure(figsize=(26,14))\n",
    "    plt.subplot(1,5,1)\n",
    "    if len(images[i].shape) >= 2:\n",
    "        plt.grid(False)\n",
    "        plt.axis('off')\n",
    "        plt.imshow(images[i].squeeze(), cmap='gray') # 1-channel image\n",
    "    else:\n",
    "        plt.grid(False)\n",
    "        plt.axis('off')\n",
    "        plt.imshow(images[i]) # 3-channel\n",
    "\n",
    "    plt.title('a) Input Image', y=-0.15)\n",
    "    plt.subplot(1,5,2)\n",
    "    plt.grid(False)\n",
    "    plt.axis('off')\n",
    "    plt.imshow(masks[i].reshape(masks[i].shape[0],masks[i].shape[1]), cmap='magma')\n",
    "    plt.title('b) Ground Truth', y=-0.15)\n",
    "\n",
    "    plt.subplot(1,5,3)\n",
    "    plt.grid(False)\n",
    "    plt.axis('off')\n",
    "    plt.imshow(u_preds[i].reshape(u_preds[i].shape[0],u_preds[i].shape[1]), cmap='magma')\n",
    "\n",
    "    jac = compute_jac(masks[i], u_preds[i])\n",
    "    plt.title('c) U-Net ({0:.4f})'.format(jac), y=-0.15)\n",
    "\n",
    "    plt.subplot(1,5,4)\n",
    "    plt.grid(False)\n",
    "    plt.axis('off')\n",
    "    plt.imshow(preds[i].reshape(preds[i].shape[0],preds[i].shape[1]), cmap='magma')\n",
    "\n",
    "    jac = compute_jac(masks[i], preds[i])\n",
    "    plt.title('d) Edge U-Net ({0:.4f})'.format(jac), y=-0.15)\n",
    "\n",
    "    # Plot boundary on image\n",
    "    legend_elements = [Line2D([3], [3], color='r', lw=3, label='Ground Truth'),\n",
    "                       Line2D([0], [0], color='g', lw=3, label='U-Net'),\n",
    "                       Line2D([0], [0], color='b', lw=3, label='Edge U-Net')\n",
    "                      ]\n",
    "\n",
    "    ct = 5\n",
    "    edges_pz = mark_boundaries(images[i], masks[i].squeeze().astype(np.int),color=(1,0,0), mode='thin') # gt\n",
    "    edges_pz = mark_boundaries(edges_pz, u_preds[i].squeeze().astype(np.int),color=(0,1,0), mode='thin') # unet\n",
    "    edges_pz = mark_boundaries(edges_pz, preds[i].squeeze().astype(np.int),color=(0,0,1), mode='thin') # det unet\n",
    "    plt.subplot(1,5,5)\n",
    "    plt.grid(False)\n",
    "    plt.axis('off')\n",
    "\n",
    "    legend_pos = legend_pos\n",
    "\n",
    "    plt.legend(handles=legend_elements, loc=legend_pos, fontsize='small')\n",
    "    plt.title('Comparison', y=-0.15)\n",
    "    plt.imshow(edges_pz)\n",
    "\n",
    "    plt.savefig('{}/{}.pdf'.format(TARGET_PATH, name), bbox_inches='tight', pad_inches=0, dpi=100)\n",
    "    plt.show()\n",
    "    plt.close()"
   ]
  },
  {
   "cell_type": "code",
   "execution_count": null,
   "metadata": {},
   "outputs": [],
   "source": [
    "i = 122\n",
    "name = \"endo_vis\"\n",
    "plot(i, 'upper right', name)"
   ]
  },
  {
   "cell_type": "code",
   "execution_count": null,
   "metadata": {},
   "outputs": [],
   "source": []
  },
  {
   "cell_type": "code",
   "execution_count": null,
   "metadata": {},
   "outputs": [],
   "source": []
  },
  {
   "cell_type": "code",
   "execution_count": null,
   "metadata": {},
   "outputs": [],
   "source": []
  },
  {
   "cell_type": "code",
   "execution_count": null,
   "metadata": {},
   "outputs": [],
   "source": [
    "u_preds = p1\n",
    "preds = p2\n",
    "\n",
    "masks.shape, u_preds.shape, preds.shape"
   ]
  },
  {
   "cell_type": "code",
   "execution_count": null,
   "metadata": {},
   "outputs": [],
   "source": [
    "y_true = masks.ravel() \n",
    "y_1 = u_preds.ravel() \n",
    "y_2 = preds.ravel() "
   ]
  },
  {
   "cell_type": "code",
   "execution_count": null,
   "metadata": {},
   "outputs": [],
   "source": [
    "from sklearn.metrics import roc_curve\n",
    "from sklearn.metrics import roc_auc_score\n",
    "from sklearn.metrics import confusion_matrix\n",
    "from sklearn.metrics import precision_recall_curve\n",
    "from sklearn.metrics import jaccard_similarity_score\n",
    "from sklearn.metrics import f1_score"
   ]
  },
  {
   "cell_type": "code",
   "execution_count": null,
   "metadata": {},
   "outputs": [],
   "source": [
    "def get_res(y, yhat):\n",
    "    \n",
    "    fpr, tpr, thresholds = roc_curve((y), yhat)\n",
    "    AUC_ROC = roc_auc_score(y, yhat)\n",
    "    \n",
    "    y_scores= yhat\n",
    "    y_true = y \n",
    "    \n",
    "    #Confusion matrix\n",
    "    threshold_confusion = 0.5\n",
    "    #print (\"\\nConfusion matrix:  Custom threshold (for positive) of \" +str(threshold_confusion))\n",
    "    y_pred = np.empty((y_scores.shape[0]))\n",
    "    for i in range(y_scores.shape[0]):\n",
    "        if y_scores[i]>=threshold_confusion:\n",
    "            y_pred[i]=1\n",
    "        else:\n",
    "            y_pred[i]=0\n",
    "    confusion = confusion_matrix(y_true, y_pred)\n",
    "    #print (confusion)\n",
    "    accuracy = 0\n",
    "    if float(np.sum(confusion))!=0:\n",
    "        accuracy = float(confusion[0,0]+confusion[1,1])/float(np.sum(confusion))\n",
    "    #print (\"Global Accuracy: \" +str(accuracy))\n",
    "    specificity = 0\n",
    "    if float(confusion[0,0]+confusion[0,1])!=0:\n",
    "        specificity = float(confusion[0,0])/float(confusion[0,0]+confusion[0,1])\n",
    "    #print (\"Specificity: \" +str(specificity))\n",
    "    sensitivity = 0\n",
    "    if float(confusion[1,1]+confusion[1,0])!=0:\n",
    "        sensitivity = float(confusion[1,1])/float(confusion[1,1]+confusion[1,0])\n",
    "    #print (\"Sensitivity: \" +str(sensitivity))\n",
    "    precision = 0\n",
    "    if float(confusion[1,1]+confusion[0,1])!=0:\n",
    "        precision = float(confusion[1,1])/float(confusion[1,1]+confusion[0,1])\n",
    "    #print (\"Precision: \" +str(precision))\n",
    "    \n",
    "\n",
    "    #F1 score\n",
    "    F1_score = f1_score(y_true, y_scores, labels=None, average='binary', sample_weight=None)\n",
    "    #print (\"\\nF1 score (F-measure): \" +str(F1_score))\n",
    "    \n",
    "    return round(F1_score, 4), round(sensitivity, 4), round(specificity, 4), round(accuracy, 4), round(AUC_ROC, 4)\n",
    "    "
   ]
  },
  {
   "cell_type": "code",
   "execution_count": null,
   "metadata": {},
   "outputs": [],
   "source": [
    "# Unet\n",
    "F1_score, sensitivity, specificity, accuracy, AUC_ROC = get_res(y_true, y_1)\n",
    "print(F1_score, sensitivity, specificity, accuracy, AUC_ROC)"
   ]
  },
  {
   "cell_type": "code",
   "execution_count": null,
   "metadata": {},
   "outputs": [],
   "source": [
    "# Deterministic U-Net\n",
    "F1_score, sensitivity, specificity, accuracy, AUC_ROC = get_res(y_true, y_2)\n",
    "print(F1_score, sensitivity, specificity, accuracy, AUC_ROC)"
   ]
  },
  {
   "cell_type": "code",
   "execution_count": null,
   "metadata": {},
   "outputs": [],
   "source": [
    "#Area under the ROC curve\n",
    "fpr1, tpr1, thresholds1 = roc_curve((y_true), y_1)\n",
    "AUC_ROC1 = roc_auc_score(y_true, y_1)\n",
    "print (\"Area under the ROC curve: \" +str(AUC_ROC1))\n",
    "\n",
    "\n",
    "#Area under the ROC curve\n",
    "fpr2, tpr2, thresholds2 = roc_curve((y_true), y_2)\n",
    "AUC_ROC2 = roc_auc_score(y_true, y_2)\n",
    "print (\"Area under the ROC curve: \" +str(AUC_ROC2))"
   ]
  },
  {
   "cell_type": "code",
   "execution_count": null,
   "metadata": {},
   "outputs": [],
   "source": [
    "# Best model ROC curve\n",
    "\n",
    "lw = None\n",
    "plt.figure()\n",
    "labels = ['U-Net', 'Edge U-Net']\n",
    "plt.plot(fpr1, tpr1, color='r', lw=lw, label='U-Net (AUC = {0:.2f}%)'.format(AUC_ROC1 * 100))\n",
    "plt.plot(fpr2, tpr2, color='b', lw=lw, label='Edge U-Net (AUC = {0:.2f}%)'.format(AUC_ROC2 * 100))\n",
    "\n",
    "plt.plot([0,1], [0,1], color='orange', linestyle='--')\n",
    "\n",
    "#plt.xlim([0.0, 1.0])\n",
    "#plt.ylim([0.0, 1.05])\n",
    "\n",
    "plt.grid(True)\n",
    "\n",
    "plt.xticks(np.arange(0.0, 1.1, step=0.1))\n",
    "plt.xlabel('False Positive Rate', fontsize=15)\n",
    "\n",
    "plt.title('Endoscopy Dataset: CVC-ClinicDB')\n",
    "plt.yticks(np.arange(0.0, 1.1, step=0.1))\n",
    "plt.ylabel('True Positive Rate', fontsize=15)\n",
    "plt.legend(prop={'size':10}, loc=\"lower right\")\n",
    "plt.savefig('{}/CT_roc.pdf'.format(TARGET_PATH), dpi=100)\n",
    "plt.show()"
   ]
  },
  {
   "cell_type": "code",
   "execution_count": null,
   "metadata": {},
   "outputs": [],
   "source": []
  }
 ],
 "metadata": {
  "kernelspec": {
   "display_name": "Python 3",
   "language": "python",
   "name": "python3"
  },
  "language_info": {
   "codemirror_mode": {
    "name": "ipython",
    "version": 3
   },
   "file_extension": ".py",
   "mimetype": "text/x-python",
   "name": "python",
   "nbconvert_exporter": "python",
   "pygments_lexer": "ipython3",
   "version": "3.6.10"
  }
 },
 "nbformat": 4,
 "nbformat_minor": 4
}
