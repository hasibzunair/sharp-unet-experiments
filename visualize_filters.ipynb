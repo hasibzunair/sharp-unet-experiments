{
 "cells": [
  {
   "cell_type": "code",
   "execution_count": null,
   "metadata": {},
   "outputs": [],
   "source": [
    "DATASET_NAME = \"CVC-ClinicDB\" # DRIVE, CVC_ClinicDB, LUNGS, ISIC2018, ISBI2012_EM\n",
    "CFG_NAME = \"Unet\""
   ]
  },
  {
   "cell_type": "code",
   "execution_count": null,
   "metadata": {},
   "outputs": [],
   "source": [
    "# Import libraries\n",
    "\n",
    "import os\n",
    "import matplotlib.pyplot as plt\n",
    "import seaborn as sns\n",
    "sns.set()\n",
    "\n",
    "%matplotlib inline\n",
    "import numpy as np\n",
    "from skimage.transform import resize\n",
    "import time\n",
    "from tqdm import tqdm\n",
    "from keras.callbacks import ModelCheckpoint, CSVLogger, EarlyStopping, ReduceLROnPlateau\n",
    "from keras import callbacks\n",
    "from keras import backend as K\n",
    "from sklearn.model_selection import train_test_split\n",
    "from sklearn.model_selection import StratifiedKFold\n",
    "from keras.models import load_model\n",
    "\n",
    "import models as M\n",
    "import losses as l\n",
    "\n",
    "ROOT_DIR = os.path.abspath(\"./\")\n",
    "LOG_PATH = os.path.join(ROOT_DIR, \"logs\")\n",
    "TARGET_PATH = os.path.join(LOG_PATH, \"{}_{}\".format(DATASET_NAME, CFG_NAME))\n",
    "print(os.listdir(TARGET_PATH))"
   ]
  },
  {
   "cell_type": "code",
   "execution_count": null,
   "metadata": {},
   "outputs": [],
   "source": [
    "## Visualizing the Hidden Layer Representations\n",
    "def filter_vis(target_layers, path, gauss=False):\n",
    "    \n",
    "    \n",
    "    if gauss == False:\n",
    "        tag = \"unet\"\n",
    "        flag = \"\"\n",
    "    else:\n",
    "        tag = \"gauss_unet\"\n",
    "        flag = \" after Gauss Layer\"\n",
    "    \n",
    "    layer_names = []\n",
    "    for layer in target_layers:\n",
    "        layer_names.append(layer.name) # Names of the layers, so you can have them as part of your plot\n",
    "    \n",
    "    ct = 1\n",
    "    images_per_row = 16\n",
    "    for layer_name, layer_activation in zip(layer_names, activations): # Displays the feature maps\n",
    "        n_features = layer_activation.shape[-1] # Number of features in the feature map\n",
    "        size = layer_activation.shape[1] #The feature map has shape (1, size, size, n_features).\n",
    "        n_cols = n_features // images_per_row # Tiles the activation channels in this matrix\n",
    "        display_grid = np.zeros((size * 1, images_per_row * size)) # n_cols\n",
    "        \n",
    "        for col in range(1): # n_cols,     Tiles each filter into a big horizontal grid\n",
    "            for row in range(images_per_row): \n",
    "                channel_image = layer_activation[0,\n",
    "                                                 :, :,\n",
    "                                                 col * images_per_row + row]\n",
    "\n",
    "                if channel_image.shape[0] != channel_image.shape[1]:\n",
    "                    # Resize\n",
    "                    DIM = (channel_image.shape[0], channel_image.shape[0])\n",
    "                    channel_image = resize(channel_image, DIM, mode='constant')\n",
    "\n",
    "                channel_image -= channel_image.mean() # Post-processes the feature to make it visually palatable\n",
    "                channel_image /= channel_image.std()\n",
    "                channel_image *= 64\n",
    "                channel_image += 128\n",
    "                channel_image = np.clip(channel_image, 0, 255).astype('uint8')\n",
    "                display_grid[col * size : (col + 1) * size, # Displays the grid\n",
    "                             row * size : (row + 1) * size] = channel_image\n",
    "        scale = 1. / size\n",
    "        plt.figure(figsize=(scale * display_grid.shape[1],\n",
    "                            scale * display_grid.shape[0]))\n",
    "        \n",
    "        #plt.title(layer_name + flag)\n",
    "        plt.grid(False)\n",
    "        plt.axis('off')\n",
    "        plt.imshow(display_grid, aspect='auto', cmap='plasma')\n",
    "        #plt.colorbar()\n",
    "        plt.savefig(\"{}/{}_{}.png\".format(path, layer_name, tag), bbox_inches='tight', dpi=100)"
   ]
  },
  {
   "cell_type": "code",
   "execution_count": null,
   "metadata": {},
   "outputs": [],
   "source": [
    "# Load input images\n",
    "images = np.load(\"{}/{}_{}_inputs.npy\".format(TARGET_PATH, DATASET_NAME, CFG_NAME))\n",
    "images.shape"
   ]
  },
  {
   "cell_type": "code",
   "execution_count": null,
   "metadata": {},
   "outputs": [],
   "source": [
    "plt.grid(False)\n",
    "plt.imshow(np.squeeze(images[0]), cmap='gray')"
   ]
  },
  {
   "cell_type": "code",
   "execution_count": null,
   "metadata": {},
   "outputs": [],
   "source": [
    "model = None\n",
    "#model = load_model(\"{}/{}_{}.h5\".format(TARGET_PATH, DATASET_NAME, CFG_NAME), compile=False)\n",
    "model = load_model(\"/home/hasib/DeterministicU-Net/logs/CVC-ClinicDB_HPF_Unet/CVC-ClinicDB_HPF_Unet.h5\", compile=False)\n",
    "model.summary()"
   ]
  },
  {
   "cell_type": "code",
   "execution_count": null,
   "metadata": {},
   "outputs": [],
   "source": [
    "len(model.layers)\n",
    "# Unet 32\n",
    "# DetUnet 36 (32 + 4 deconv)"
   ]
  },
  {
   "cell_type": "code",
   "execution_count": null,
   "metadata": {},
   "outputs": [],
   "source": [
    "# 1\n",
    "# Visualize concat layers\n",
    "# a) unet\n",
    "# b) after passing through gauss layer\n",
    "\n",
    "# 2\n",
    "# Visualize input of concat from skip connection\n",
    "# a) conv2, 3, 4...\n",
    "# b) deconv_2d 1, 2.... deconv(conv2)"
   ]
  },
  {
   "cell_type": "code",
   "execution_count": null,
   "metadata": {},
   "outputs": [],
   "source": [
    "# layer every conv layer which are in skip connection\n",
    "\n",
    "# 1.\n",
    "# for baseline \n",
    "#target_layers = [model.layers[2], model.layers[5], model.layers[8], model.layers[11]] # all conv layers\n",
    "# for hpf layer\n",
    "#target_layers = [model.layers[16], model.layers[21], model.layers[26], model.layers[31]] # all deconv layers\n",
    "\n",
    "# 2.\n",
    "# for baseline\n",
    "#target_layers = [model.layers[16], model.layers[20], model.layers[24], model.layers[28]] # concat layers\n",
    "# fopr hpf layer\n",
    "target_layers = [model.layers[17], model.layers[22], model.layers[27], model.layers[32]] # concat layers\n",
    "\n",
    "\n",
    "for layer in target_layers:\n",
    "        print(layer.name)\n",
    "        \n",
    "# layer outputs\n",
    "layer_outputs = [layer.output for layer in target_layers]\n",
    "layer_outputs"
   ]
  },
  {
   "cell_type": "code",
   "execution_count": null,
   "metadata": {},
   "outputs": [],
   "source": [
    "## Generation of Activation Maps\n",
    "from keras import models\n",
    "activation_model = models.Model(inputs=model.input, outputs=layer_outputs)\n",
    "# Creates a model that will return these outputs, given the model input\n",
    "#activation_model.summary()"
   ]
  },
  {
   "cell_type": "code",
   "execution_count": null,
   "metadata": {},
   "outputs": [],
   "source": [
    "## Generating the activation map for a input image\n",
    "img_tensor = images[40:41]\n",
    "activations = activation_model.predict(img_tensor)\n",
    "# activations[0].shape = (1, 256, 256, 1)"
   ]
  },
  {
   "cell_type": "code",
   "execution_count": null,
   "metadata": {},
   "outputs": [],
   "source": [
    "plt.grid(False)\n",
    "plt.axis('off')\n",
    "plt.imshow(img_tensor.squeeze(), cmap='gray')\n",
    "plt.savefig(\"{}/input.png\".format(TARGET_PATH), bbox_inches='tight', dpi=100)"
   ]
  },
  {
   "cell_type": "code",
   "execution_count": null,
   "metadata": {},
   "outputs": [],
   "source": [
    "# get weights from layers\n",
    "#layer_weights = [layer.get_weights() for layer in target_layers]"
   ]
  },
  {
   "cell_type": "code",
   "execution_count": null,
   "metadata": {},
   "outputs": [],
   "source": [
    "#for l in layer_weights:\n",
    "#    print(l[0].shape, l[1].shape)"
   ]
  },
  {
   "cell_type": "code",
   "execution_count": null,
   "metadata": {},
   "outputs": [],
   "source": [
    "#def res(arr):\n",
    "#    return arr.reshape((arr.shape[0] * arr.shape[1] * arr.shape[2], arr.shape[3])"
   ]
  },
  {
   "cell_type": "code",
   "execution_count": null,
   "metadata": {},
   "outputs": [],
   "source": [
    "#l[0][:,:,0][:,:,2].shape"
   ]
  },
  {
   "cell_type": "code",
   "execution_count": null,
   "metadata": {},
   "outputs": [],
   "source": [
    "#plt.grid(False)\n",
    "#plt.imshow(l[0][:,:,0][:,:,4])"
   ]
  },
  {
   "cell_type": "code",
   "execution_count": null,
   "metadata": {},
   "outputs": [],
   "source": [
    "try:\n",
    "    # directory to create\n",
    "    os.mkdir(os.path.join(TARGET_PATH, \"filtervis\"))\n",
    "except FileExistsError:\n",
    "    # directory already exists\n",
    "    pass\n",
    "\n",
    "filter_vis_path = os.path.join(TARGET_PATH, \"filtervis\")\n",
    "filter_vis_path"
   ]
  },
  {
   "cell_type": "code",
   "execution_count": null,
   "metadata": {},
   "outputs": [],
   "source": [
    "filter_vis(target_layers, filter_vis_path, gauss=True)"
   ]
  },
  {
   "cell_type": "code",
   "execution_count": null,
   "metadata": {},
   "outputs": [],
   "source": []
  }
 ],
 "metadata": {
  "kernelspec": {
   "display_name": "Python 3",
   "language": "python",
   "name": "python3"
  },
  "language_info": {
   "codemirror_mode": {
    "name": "ipython",
    "version": 3
   },
   "file_extension": ".py",
   "mimetype": "text/x-python",
   "name": "python",
   "nbconvert_exporter": "python",
   "pygments_lexer": "ipython3",
   "version": "3.6.10"
  }
 },
 "nbformat": 4,
 "nbformat_minor": 4
}
