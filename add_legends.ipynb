{
 "cells": [
  {
   "cell_type": "code",
   "execution_count": null,
   "metadata": {},
   "outputs": [],
   "source": [
    "import cv2\n",
    "import matplotlib.pyplot as plt\n",
    "import os"
   ]
  },
  {
   "cell_type": "code",
   "execution_count": null,
   "metadata": {},
   "outputs": [],
   "source": [
    "dirname = \"/home/hasib/unet-segmentation/logs/qualitative_results/all\"\n",
    "files = [os.path.join(dirname, x) for x in os.listdir(dirname)]\n",
    "files.sort()"
   ]
  },
  {
   "cell_type": "code",
   "execution_count": null,
   "metadata": {},
   "outputs": [],
   "source": [
    "files"
   ]
  },
  {
   "cell_type": "code",
   "execution_count": null,
   "metadata": {},
   "outputs": [],
   "source": [
    "targets = ['s3.png','s8.png', 's15.png']\n",
    "targets = [os.path.join(dirname, x) for x in targets]\n",
    "targets"
   ]
  },
  {
   "cell_type": "code",
   "execution_count": null,
   "metadata": {},
   "outputs": [],
   "source": [
    "targets[0][:-4]"
   ]
  },
  {
   "cell_type": "code",
   "execution_count": null,
   "metadata": {},
   "outputs": [],
   "source": [
    "from matplotlib.patches import Patch\n",
    "from matplotlib.lines import Line2D\n",
    "\n",
    "for path in targets:\n",
    "    img = cv2.imread(path)\n",
    "    img = cv2.cvtColor(img, cv2.COLOR_BGR2RGB)\n",
    "    \n",
    "    # Plot boundary on image\n",
    "    legend_elements = [Line2D([3], [3], color='r', lw=3, label='Ground Truth'),\n",
    "                       Line2D([0], [0], color='g', lw=3, label='U-Net'),\n",
    "                       Line2D([0], [0], color='b', lw=3, label='Sharp U-Net')\n",
    "                      ]\n",
    "\n",
    "    plt.grid(False)\n",
    "    plt.axis('off')\n",
    "    plt.legend(handles=legend_elements, loc='upper right')\n",
    "    plt.imshow(img)\n",
    "    x = path[:-4]\n",
    "    plt.savefig(\"{}.pdf\".format(x), pad_inches=0, bbox_inches='tight', dpi=300)"
   ]
  },
  {
   "cell_type": "code",
   "execution_count": null,
   "metadata": {},
   "outputs": [],
   "source": [
    "for path in files:\n",
    "    if path not in targets:\n",
    "        img = cv2.imread(path)\n",
    "        img = cv2.cvtColor(img, cv2.COLOR_BGR2RGB)\n",
    "        plt.grid(False)\n",
    "        plt.axis('off')\n",
    "        plt.imshow(img)\n",
    "        x = path[:-4]\n",
    "        plt.savefig(\"{}.pdf\".format(x), pad_inches=0, bbox_inches='tight', dpi=300)  "
   ]
  },
  {
   "cell_type": "code",
   "execution_count": null,
   "metadata": {},
   "outputs": [],
   "source": []
  }
 ],
 "metadata": {
  "kernelspec": {
   "display_name": "Python 3",
   "language": "python",
   "name": "python3"
  },
  "language_info": {
   "codemirror_mode": {
    "name": "ipython",
    "version": 3
   },
   "file_extension": ".py",
   "mimetype": "text/x-python",
   "name": "python",
   "nbconvert_exporter": "python",
   "pygments_lexer": "ipython3",
   "version": "3.6.10"
  }
 },
 "nbformat": 4,
 "nbformat_minor": 4
}
