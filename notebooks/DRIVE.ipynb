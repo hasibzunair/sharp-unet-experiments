{
 "cells": [
  {
   "cell_type": "markdown",
   "metadata": {},
   "source": [
    "### Dataset link: https://drive.grand-challenge.org/\n",
    "\n",
    "Download data from https://drive.google.com/file/d/17wVfELqgwbp4Q02GD247jJyjq6lwB0l6/view"
   ]
  },
  {
   "cell_type": "code",
   "execution_count": null,
   "metadata": {},
   "outputs": [],
   "source": [
    "# Import libraries\n",
    "\n",
    "import os\n",
    "import matplotlib.pyplot as plt\n",
    "%matplotlib inline\n",
    "\n",
    "from skimage.transform import resize\n",
    "from skimage import io\n",
    "import tifffile as tiff\n",
    "import numpy as np\n",
    "from mpl_toolkits.axes_grid1 import make_axes_locatable\n",
    "\n",
    "ROOT_DIR = os.path.abspath(\"../\")\n",
    "DATASET_NAME = \"DRIVE\"\n",
    "DATASET_PATH = os.path.join(ROOT_DIR, \"datasets\", DATASET_NAME)\n",
    "print(os.listdir(DATASET_PATH))\n",
    "\n",
    "\n",
    "#Data tree\n",
    "#│\n",
    "#└───test\n",
    "#|    ├───1st_manual\n",
    "#|    └───2nd_manual\n",
    "#|    └───images\n",
    "#|    └───mask\n",
    "#│\n",
    "#└───training\n",
    "#    ├───1st_manual\n",
    "#    └───images\n",
    "#    └───mask\n",
    "#└───all         # Combine train and test manually\n",
    "#   └───1st_manual # 40 vessel masks\n",
    "#   └───images # 40 images"
   ]
  },
  {
   "cell_type": "code",
   "execution_count": null,
   "metadata": {},
   "outputs": [],
   "source": [
    "# Read train data\n",
    "train_img_files = next(os.walk(\"{}/all/images/\".format(DATASET_PATH)))[2]\n",
    "train_msk_files = next(os.walk(\"{}/all/1st_manual/\".format(DATASET_PATH)))[2]\n",
    "\n",
    "train_img_files.sort()\n",
    "train_msk_files.sort()\n",
    "\n",
    "print(len(train_img_files))\n",
    "print(len(train_msk_files))"
   ]
  },
  {
   "cell_type": "code",
   "execution_count": null,
   "metadata": {},
   "outputs": [],
   "source": [
    "IMG_DIM = (512, 512)\n",
    "\n",
    "images_rs = []\n",
    "masks_rs = []\n",
    "\n",
    "for img_fl, mask_fl in zip(train_img_files, train_msk_files):    \n",
    "    \n",
    "    img = tiff.imread('{}/all/images/{}'.format(DATASET_PATH, img_fl))\n",
    "    img = resize(img, IMG_DIM, mode='constant')\n",
    "    images_rs.append(img)\n",
    "\n",
    "\n",
    "    mask = io.imread('{}/all/1st_manual/{}'.format(DATASET_PATH, mask_fl))\n",
    "    mask = np.expand_dims(resize(mask, IMG_DIM).round(), axis=-1)\n",
    "    masks_rs.append(mask)\n",
    "\n",
    "    \n",
    "images_rs = np.array(images_rs)\n",
    "masks_rs = np.array(masks_rs)\n",
    "images_rs.shape, masks_rs.shape"
   ]
  },
  {
   "cell_type": "code",
   "execution_count": null,
   "metadata": {},
   "outputs": [],
   "source": [
    "for img, mask in zip(images_rs[:10], masks_rs[:10]):\n",
    "    \n",
    "    mask = np.squeeze(mask, axis=-1) # change to H, W\n",
    "    \n",
    "    \n",
    "    fig,_ = plt.subplots(nrows=1, ncols=2, figsize=(14,12))\n",
    "    fig.axes[0].imshow(img)\n",
    "    fig.axes[1].imshow(mask, cmap='gray')\n",
    "    plt.show()"
   ]
  },
  {
   "cell_type": "code",
   "execution_count": null,
   "metadata": {},
   "outputs": [],
   "source": [
    "plt.rcParams['figure.figsize'] = (20, 5)\n",
    "plt.title(\"Example images\")\n",
    "plt.figsize=(14,12)\n",
    "plt.imshow(np.concatenate(images_rs[:5].transpose((0,1,2,3)),axis=1), interpolation='none')"
   ]
  },
  {
   "cell_type": "code",
   "execution_count": null,
   "metadata": {},
   "outputs": [],
   "source": [
    "fig = plt.figure(1, figsize=(20, 5))\n",
    "ax = plt.gca()\n",
    "im = ax.imshow(np.concatenate(masks_rs[:5,:,:,0],axis=1), cmap='magma', interpolation='none') # cmap='bwr'\n",
    "divider = make_axes_locatable(ax) \n",
    "cax = divider.append_axes(\"right\", size=\"5%\", pad=0.1)\n",
    "plt.colorbar(im, cax=cax)"
   ]
  },
  {
   "cell_type": "code",
   "execution_count": null,
   "metadata": {},
   "outputs": [],
   "source": [
    "from skimage.segmentation import mark_boundaries, find_boundaries"
   ]
  },
  {
   "cell_type": "code",
   "execution_count": null,
   "metadata": {},
   "outputs": [],
   "source": [
    "ct = 5\n",
    "edges_pz = mark_boundaries(images_rs[ct], masks_rs[ct].squeeze().astype(np.int),color=(1,0,0), mode='thin')\n",
    "plt.imshow(edges_pz)"
   ]
  },
  {
   "cell_type": "code",
   "execution_count": null,
   "metadata": {},
   "outputs": [],
   "source": [
    "images_rs.shape, masks_rs.shape"
   ]
  },
  {
   "cell_type": "code",
   "execution_count": null,
   "metadata": {},
   "outputs": [],
   "source": [
    "np.save(\"{}/DRIVE_images.npy\".format(DATASET_PATH), images_rs)\n",
    "np.save(\"{}/DRIVE_mask.npy\".format(DATASET_PATH), masks_rs)"
   ]
  },
  {
   "cell_type": "code",
   "execution_count": null,
   "metadata": {},
   "outputs": [],
   "source": []
  }
 ],
 "metadata": {
  "kernelspec": {
   "display_name": "Python 3",
   "language": "python",
   "name": "python3"
  },
  "language_info": {
   "codemirror_mode": {
    "name": "ipython",
    "version": 3
   },
   "file_extension": ".py",
   "mimetype": "text/x-python",
   "name": "python",
   "nbconvert_exporter": "python",
   "pygments_lexer": "ipython3",
   "version": "3.6.10"
  }
 },
 "nbformat": 4,
 "nbformat_minor": 4
}
