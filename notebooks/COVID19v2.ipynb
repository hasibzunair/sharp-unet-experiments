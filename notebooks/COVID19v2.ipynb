{
 "cells": [
  {
   "cell_type": "markdown",
   "metadata": {},
   "source": [
    "### Dataset link: http://medicalsegmentation.com/covid19/\n",
    "\n",
    "Segmentation dataset nr. 2 (13th April)\n",
    "\n",
    "* ground-glass (mask value =1)\n",
    "* consolidation (=2) \n",
    "* pleural effusion (=3)"
   ]
  },
  {
   "cell_type": "code",
   "execution_count": null,
   "metadata": {},
   "outputs": [],
   "source": [
    "# Import libraries\n",
    "\n",
    "import os\n",
    "import cv2\n",
    "import matplotlib.pyplot as plt\n",
    "import matplotlib.colors\n",
    "%matplotlib inline\n",
    "import nibabel as nib\n",
    "import numpy as np\n",
    "from skimage.transform import resize\n",
    "import scipy.misc\n",
    "from skimage.transform import rotate\n",
    "from skimage.io import imread, imshow, imread_collection, concatenate_images\n",
    "\n",
    "ROOT_DIR = os.path.abspath(\"../\")\n",
    "DATASET_NAME = \"COVID19v2\"\n",
    "DATASET_PATH = os.path.join(ROOT_DIR, \"datasets\", DATASET_NAME)\n",
    "print(os.listdir(DATASET_PATH))"
   ]
  },
  {
   "cell_type": "code",
   "execution_count": null,
   "metadata": {},
   "outputs": [],
   "source": [
    "def hu_window(image):\n",
    "    \"Normalize\"\n",
    "    \n",
    "    # For lung\n",
    "    #############\n",
    "    MIN_HU = np.min(image) #-512\n",
    "    MAX_HU = np.max(image) #512\n",
    "    #############\n",
    "    \n",
    "    image[image < MIN_HU] = MIN_HU\n",
    "    image[image > MAX_HU] = MAX_HU\n",
    "    image = (image - MIN_HU) / (MAX_HU - MIN_HU)\n",
    "    image = image.astype(\"float32\")\n",
    "    return image\n",
    "\n",
    "\n",
    "def rotate_img(arr):\n",
    "    arr = cv2.rotate(arr, cv2.ROTATE_90_CLOCKWISE)\n",
    "    return arr\n",
    "    \n",
    "    \n",
    "def hu_to_grayscale(volume):\n",
    "    volume = np.clip(volume, -512, 512)\n",
    "    mxval  = np.max(volume)\n",
    "    mnval  = np.min(volume)\n",
    "    im_volume = (volume - mnval)/max(mxval - mnval, 1e-3)\n",
    "    im_volume = im_volume\n",
    "    return im_volume *255\n",
    "\n",
    "\n",
    "# Helper function for data visualization\n",
    "def visualize(**images):\n",
    "    \"\"\"PLot images in one row.\"\"\"\n",
    "    \n",
    "    norm=plt.Normalize(0,3) # 4 classes including BG\n",
    "    map_name = matplotlib.colors.LinearSegmentedColormap.from_list(\"\", [\"black\", \"red\",\"green\",\"blue\"])\n",
    "\n",
    "    \n",
    "    n = len(images)\n",
    "    plt.figure(figsize=(16, 5))\n",
    "    for i, (name, image) in enumerate(images.items()):\n",
    "        plt.subplot(1, n, i + 1)\n",
    "        plt.xticks([])\n",
    "        plt.yticks([])\n",
    "        plt.title(' '.join(name.split('_')).title())\n",
    "        #plt.imshow(image, cmap=map_name, norm=norm)\n",
    "        plt.imshow(image)\n",
    "    plt.show()"
   ]
  },
  {
   "cell_type": "code",
   "execution_count": null,
   "metadata": {},
   "outputs": [],
   "source": [
    "vol_path = DATASET_PATH + \"/rp_im\" # tr_mask.nii.gz\n",
    "mask_path = DATASET_PATH + \"/rp_msk\"\n",
    "\n",
    "vols = [os.path.join(vol_path, x) for x in os.listdir(vol_path)]\n",
    "masks = [os.path.join(mask_path, x) for x in os.listdir(mask_path)]\n",
    "\n",
    "print(vol_path, mask_path)\n",
    "print(len(vols), len(masks))"
   ]
  },
  {
   "cell_type": "code",
   "execution_count": null,
   "metadata": {},
   "outputs": [],
   "source": [
    "# Read CT\n",
    "vol = nib.load(vols[0])\n",
    "masks = nib.load(masks[0])"
   ]
  },
  {
   "cell_type": "code",
   "execution_count": null,
   "metadata": {},
   "outputs": [],
   "source": [
    "vol = np.asanyarray(vol.dataobj)\n",
    "masks = np.asanyarray(masks.dataobj)\n",
    "vol.shape, masks.shape"
   ]
  },
  {
   "cell_type": "code",
   "execution_count": null,
   "metadata": {},
   "outputs": [],
   "source": [
    "np.unique(masks[:,:,0])"
   ]
  },
  {
   "cell_type": "code",
   "execution_count": null,
   "metadata": {},
   "outputs": [],
   "source": [
    "#vol = rotate(vol, -90, resize=False)  \n",
    "#masks = rotate(masks, -90, resize=False)  "
   ]
  },
  {
   "cell_type": "code",
   "execution_count": null,
   "metadata": {},
   "outputs": [],
   "source": [
    "#np.unique(masks[:,:,0])"
   ]
  },
  {
   "cell_type": "code",
   "execution_count": null,
   "metadata": {},
   "outputs": [],
   "source": [
    "# Normalize\n",
    "vol = hu_window(vol)\n",
    "vol.shape"
   ]
  },
  {
   "cell_type": "code",
   "execution_count": null,
   "metadata": {},
   "outputs": [],
   "source": [
    "ct = 60\n",
    "img = rotate_img(vol[:,:,ct])\n",
    "plt.imshow(img, cmap='gray')"
   ]
  },
  {
   "cell_type": "code",
   "execution_count": null,
   "metadata": {},
   "outputs": [],
   "source": [
    "np.min(vol[:,:,ct])"
   ]
  },
  {
   "cell_type": "code",
   "execution_count": null,
   "metadata": {},
   "outputs": [],
   "source": [
    "img.shape"
   ]
  },
  {
   "cell_type": "code",
   "execution_count": null,
   "metadata": {},
   "outputs": [],
   "source": [
    "x = cv2.resize(img, (512, 512))\n",
    "x.shape"
   ]
  },
  {
   "cell_type": "code",
   "execution_count": null,
   "metadata": {},
   "outputs": [],
   "source": [
    "norm=plt.Normalize(0,3) # 4 classes including BG\n",
    "map_name = matplotlib.colors.LinearSegmentedColormap.from_list(\"\", [\"black\", \"red\",\"green\",\"blue\"])\n",
    "msk = rotate_img(masks[:,:,ct])\n",
    "plt.imshow(msk, cmap=map_name, norm=norm)"
   ]
  },
  {
   "cell_type": "code",
   "execution_count": null,
   "metadata": {},
   "outputs": [],
   "source": [
    "np.unique(msk)"
   ]
  },
  {
   "cell_type": "code",
   "execution_count": null,
   "metadata": {},
   "outputs": [],
   "source": [
    "CLASSES = ['groundglass', 'consolidation', 'pleuraleffusion']\n",
    "class_values = [CLASSES.index(cls) for cls in CLASSES]\n",
    "class_values"
   ]
  },
  {
   "cell_type": "code",
   "execution_count": null,
   "metadata": {},
   "outputs": [],
   "source": [
    "# Extract certain classes from mask\n",
    "masks = [(masks == v) for v in class_values]\n",
    "masks = np.stack(masks, axis=-1).astype('float')\n",
    "# Add background if mask is not binary\n",
    "if masks.shape[-1] != 1:\n",
    "    background = 1 - masks.sum(axis=-1, keepdims=True)\n",
    "    masks = np.concatenate((masks, background), axis=-1)\n",
    "    \n",
    "masks.shape"
   ]
  },
  {
   "cell_type": "code",
   "execution_count": null,
   "metadata": {},
   "outputs": [],
   "source": [
    "ct = 8\n",
    "\n",
    "visualize(\n",
    "    image=vol[:,:,ct], \n",
    "    GroundGlass_mask = masks[:,:,ct,1],\n",
    "    Consolidation_mask = masks[:,:,ct,2],\n",
    "    PleuralEffusion_mask = masks[:,:,ct,3],\n",
    "    background_mask = masks[:,:,ct,0],\n",
    ")"
   ]
  },
  {
   "cell_type": "code",
   "execution_count": null,
   "metadata": {},
   "outputs": [],
   "source": [
    "images = []\n",
    "maps = []\n",
    "\n",
    "for idx in range(100):\n",
    "    \n",
    "    # Resize image\n",
    "    img = vol[:,:,idx] \n",
    "    img = rotate_img(img)\n",
    "    img = np.expand_dims(img, axis=-1)\n",
    "    images.append(img)\n",
    "    \n",
    "    \n",
    "    # Resize masks\n",
    "    msk = masks[:,:,idx]\n",
    "    msk = rotate_img(msk)\n",
    "    maps.append(msk)\n",
    "    \n",
    "images = np.array(images)\n",
    "maps = np.array(maps)\n",
    "\n",
    "print(images.shape, maps.shape)    "
   ]
  },
  {
   "cell_type": "code",
   "execution_count": null,
   "metadata": {},
   "outputs": [],
   "source": [
    "maps[0,:,:,2].shape"
   ]
  },
  {
   "cell_type": "code",
   "execution_count": null,
   "metadata": {},
   "outputs": [],
   "source": [
    "a = np.argmax(maps[0].squeeze(), axis=-1)\n",
    "a.shape"
   ]
  },
  {
   "cell_type": "code",
   "execution_count": null,
   "metadata": {},
   "outputs": [],
   "source": [
    "plt.imshow(a)"
   ]
  },
  {
   "cell_type": "code",
   "execution_count": null,
   "metadata": {},
   "outputs": [],
   "source": [
    "np.unique(a)"
   ]
  },
  {
   "cell_type": "code",
   "execution_count": null,
   "metadata": {},
   "outputs": [],
   "source": [
    "for i in range(100):\n",
    "\n",
    "    ct = i #55\n",
    "\n",
    "    visualize(\n",
    "        image=images[ct].squeeze(), \n",
    "        GroundGlass_mask = maps[ct,:,:,0],\n",
    "        Consolidation_mask = maps[ct,:,:,1],\n",
    "        PleuralEffusion_mask = maps[ct,:,:,2],\n",
    "        background_mask = maps[ct,:,:,3],\n",
    "    )"
   ]
  },
  {
   "cell_type": "code",
   "execution_count": null,
   "metadata": {},
   "outputs": [],
   "source": [
    "images.shape, maps.shape"
   ]
  },
  {
   "cell_type": "code",
   "execution_count": null,
   "metadata": {},
   "outputs": [],
   "source": [
    "np.save(\"{}/COVID19_images.npy\".format(DATASET_PATH), images)\n",
    "np.save(\"{}/COVID19_mask.npy\".format(DATASET_PATH), maps)"
   ]
  },
  {
   "cell_type": "code",
   "execution_count": null,
   "metadata": {},
   "outputs": [],
   "source": []
  }
 ],
 "metadata": {
  "kernelspec": {
   "display_name": "Python 3",
   "language": "python",
   "name": "python3"
  },
  "language_info": {
   "codemirror_mode": {
    "name": "ipython",
    "version": 3
   },
   "file_extension": ".py",
   "mimetype": "text/x-python",
   "name": "python",
   "nbconvert_exporter": "python",
   "pygments_lexer": "ipython3",
   "version": "3.6.10"
  }
 },
 "nbformat": 4,
 "nbformat_minor": 4
}
