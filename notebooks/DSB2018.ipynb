{
 "cells": [
  {
   "cell_type": "markdown",
   "metadata": {},
   "source": [
    "### Dataset link: https://www.kaggle.com/c/data-science-bowl-2018/data"
   ]
  },
  {
   "cell_type": "code",
   "execution_count": null,
   "metadata": {},
   "outputs": [],
   "source": [
    "# Import libraries\n",
    "\n",
    "import os\n",
    "import matplotlib.pyplot as plt\n",
    "%matplotlib inline\n",
    "\n",
    "from skimage.transform import resize\n",
    "from skimage.io import imread, imshow, imread_collection, concatenate_images\n",
    "from skimage import io\n",
    "import tifffile as tiff\n",
    "import numpy as np\n",
    "from mpl_toolkits.axes_grid1 import make_axes_locatable\n",
    "\n",
    "ROOT_DIR = os.path.abspath(\"../\")\n",
    "DATASET_NAME = \"DSB2018\"\n",
    "DATASET_PATH = os.path.join(ROOT_DIR, \"datasets\", DATASET_NAME)\n",
    "print(os.listdir(DATASET_PATH))\n",
    "\n",
    "#Data tree\n",
    "# stage1_train"
   ]
  },
  {
   "cell_type": "code",
   "execution_count": null,
   "metadata": {},
   "outputs": [],
   "source": [
    "TRAIN_PATH = os.path.join(DATASET_PATH, \"stage1_train/\")\n",
    "# Get train and test IDs\n",
    "train_ids = next(os.walk(TRAIN_PATH))[1]\n",
    "print(len(train_ids))"
   ]
  },
  {
   "cell_type": "code",
   "execution_count": null,
   "metadata": {},
   "outputs": [],
   "source": [
    "# set some parameters\n",
    "IMG_WIDTH = 256\n",
    "IMG_HEIGHT = 256\n",
    "IMG_CHANNELS = 3\n",
    "\n",
    "# initiailize empty numpy array\n",
    "X_train = np.zeros((len(train_ids), IMG_HEIGHT, IMG_WIDTH, IMG_CHANNELS), dtype=np.uint8)\n",
    "Y_train = np.zeros((len(train_ids), IMG_HEIGHT, IMG_WIDTH, 1), dtype=np.bool)\n",
    "\n",
    "print('Getting and resizing train images and masks ... ')\n",
    "\n",
    "# go over the training set dirs\n",
    "for n, id_ in enumerate(train_ids):\n",
    "    '''training set conssits of raw images and their seperate masks\n",
    "    '''\n",
    "    path = TRAIN_PATH + id_\n",
    "    img = imread(path + '/images/' + id_ + '.png')[:,:,:IMG_CHANNELS]\n",
    "    img = resize(img, (IMG_HEIGHT, IMG_WIDTH), mode='constant', preserve_range=True)\n",
    "    # add image in training set\n",
    "    X_train[n] = img\n",
    "    mask = np.zeros((IMG_HEIGHT, IMG_WIDTH, 1), dtype=np.bool)\n",
    "    for mask_file in next(os.walk(path + '/masks/'))[2]:\n",
    "        mask_ = imread(path + '/masks/' + mask_file)\n",
    "        mask_ = np.expand_dims(resize(mask_, (IMG_HEIGHT, IMG_WIDTH), mode='constant', \n",
    "                                      preserve_range=True), axis=-1)\n",
    "        # stitch all the masks together to one mask\n",
    "        mask = np.maximum(mask, mask_)\n",
    "    # add the masks in training set\n",
    "    Y_train[n] = mask\n",
    "    \n",
    "# Conver boolean mask to int mask(0's and 1's)\n",
    "Y_train = Y_train * 1\n",
    "X_train.shape, Y_train.shape"
   ]
  },
  {
   "cell_type": "code",
   "execution_count": null,
   "metadata": {},
   "outputs": [],
   "source": [
    "for img, mask in zip(X_train[:5], Y_train[:5]):\n",
    "    \n",
    "    mask = np.squeeze(mask, axis=-1) # change to H, W\n",
    "    \n",
    "    \n",
    "    fig,_ = plt.subplots(nrows=1, ncols=2, figsize=(14,12))\n",
    "    fig.axes[0].imshow(img)\n",
    "    fig.axes[1].imshow(mask, cmap='gray')\n",
    "    plt.show()"
   ]
  },
  {
   "cell_type": "code",
   "execution_count": null,
   "metadata": {},
   "outputs": [],
   "source": [
    "plt.rcParams['figure.figsize'] = (20, 5)\n",
    "plt.title(\"Example images\")\n",
    "plt.figsize=(14,12)\n",
    "plt.imshow(np.concatenate(X_train[:5].transpose((0,1,2,3)),axis=1), interpolation='none')"
   ]
  },
  {
   "cell_type": "code",
   "execution_count": null,
   "metadata": {},
   "outputs": [],
   "source": [
    "fig = plt.figure(1, figsize=(20, 5))\n",
    "ax = plt.gca()\n",
    "im = ax.imshow(np.concatenate(Y_train[:5,:,:,0],axis=1), cmap='magma', interpolation='none') # cmap='bwr'\n",
    "divider = make_axes_locatable(ax) \n",
    "cax = divider.append_axes(\"right\", size=\"5%\", pad=0.1)\n",
    "plt.colorbar(im, cax=cax)"
   ]
  },
  {
   "cell_type": "code",
   "execution_count": null,
   "metadata": {},
   "outputs": [],
   "source": [
    "from skimage.segmentation import mark_boundaries, find_boundaries"
   ]
  },
  {
   "cell_type": "code",
   "execution_count": null,
   "metadata": {},
   "outputs": [],
   "source": [
    "ct = 10\n",
    "edges_pz = mark_boundaries(X_train[ct], Y_train[ct].squeeze().astype(np.int),color=(1,0,0), mode='thin')\n",
    "plt.imshow(edges_pz)"
   ]
  },
  {
   "cell_type": "code",
   "execution_count": null,
   "metadata": {},
   "outputs": [],
   "source": [
    "X_train.shape, Y_train.shape"
   ]
  },
  {
   "cell_type": "code",
   "execution_count": null,
   "metadata": {},
   "outputs": [],
   "source": [
    "np.save(\"{}/DSB2018_images.npy\".format(DATASET_PATH), X_train)\n",
    "np.save(\"{}/DSB2018_mask.npy\".format(DATASET_PATH), Y_train)"
   ]
  },
  {
   "cell_type": "code",
   "execution_count": null,
   "metadata": {},
   "outputs": [],
   "source": []
  }
 ],
 "metadata": {
  "kernelspec": {
   "display_name": "Python 3",
   "language": "python",
   "name": "python3"
  },
  "language_info": {
   "codemirror_mode": {
    "name": "ipython",
    "version": 3
   },
   "file_extension": ".py",
   "mimetype": "text/x-python",
   "name": "python",
   "nbconvert_exporter": "python",
   "pygments_lexer": "ipython3",
   "version": "3.6.10"
  }
 },
 "nbformat": 4,
 "nbformat_minor": 4
}
