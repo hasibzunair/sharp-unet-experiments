{
 "cells": [
  {
   "cell_type": "markdown",
   "metadata": {},
   "source": [
    "### Dataset link: http://medicalsegmentation.com/covid19/\n",
    "\n",
    "* ground-glass (mask value =1)\n",
    "* consolidation (=2) \n",
    "* pleural effusion (=3)"
   ]
  },
  {
   "cell_type": "code",
   "execution_count": null,
   "metadata": {},
   "outputs": [],
   "source": [
    "# Import libraries\n",
    "\n",
    "import os\n",
    "import matplotlib.pyplot as plt\n",
    "import matplotlib.colors\n",
    "%matplotlib inline\n",
    "import nibabel as nib\n",
    "import numpy as np\n",
    "from skimage.transform import resize\n",
    "import scipy.misc\n",
    "from skimage.transform import rotate\n",
    "from skimage.io import imread, imshow, imread_collection, concatenate_images\n",
    "\n",
    "ROOT_DIR = os.path.abspath(\"../\")\n",
    "DATASET_NAME = \"COVID19\"\n",
    "DATASET_PATH = os.path.join(ROOT_DIR, \"datasets\", DATASET_NAME)\n",
    "print(os.listdir(DATASET_PATH))\n",
    "\n",
    "#Data tree\n",
    "# stage1_train"
   ]
  },
  {
   "cell_type": "code",
   "execution_count": null,
   "metadata": {},
   "outputs": [],
   "source": [
    "def hu_window(image):\n",
    "    \"Normalize\"\n",
    "    \n",
    "    # For lung\n",
    "    #############\n",
    "    MIN_HU = -512\n",
    "    MAX_HU = 512\n",
    "    #############\n",
    "    \n",
    "    image[image < MIN_HU] = MIN_HU\n",
    "    image[image > MAX_HU] = MAX_HU\n",
    "    image = (image - MIN_HU) / (MAX_HU - MIN_HU)\n",
    "    image = image.astype(\"float32\")\n",
    "    return image\n",
    "\n",
    "\n",
    "def hu_to_grayscale(volume):\n",
    "    volume = np.clip(volume, -512, 512)\n",
    "    mxval  = np.max(volume)\n",
    "    mnval  = np.min(volume)\n",
    "    im_volume = (volume - mnval)/max(mxval - mnval, 1e-3)\n",
    "    im_volume = im_volume\n",
    "    return im_volume *255\n",
    "\n",
    "\n",
    "# Helper function for data visualization\n",
    "def visualize(**images):\n",
    "    \"\"\"PLot images in one row.\"\"\"\n",
    "    \n",
    "    norm=plt.Normalize(0,3) # 4 classes including BG\n",
    "    map_name = matplotlib.colors.LinearSegmentedColormap.from_list(\"\", [\"black\", \"red\",\"green\",\"blue\"])\n",
    "\n",
    "    \n",
    "    n = len(images)\n",
    "    plt.figure(figsize=(16, 5))\n",
    "    for i, (name, image) in enumerate(images.items()):\n",
    "        plt.subplot(1, n, i + 1)\n",
    "        plt.xticks([])\n",
    "        plt.yticks([])\n",
    "        plt.title(' '.join(name.split('_')).title())\n",
    "        #plt.imshow(image, cmap=map_name, norm=norm)\n",
    "        plt.imshow(image)\n",
    "    plt.show()"
   ]
  },
  {
   "cell_type": "code",
   "execution_count": null,
   "metadata": {},
   "outputs": [],
   "source": [
    "vol_path = DATASET_PATH + \"/tr_im.nii\" # tr_mask.nii.gz\n",
    "mask_path = DATASET_PATH + \"/tr_mask.nii\"\n",
    "vol_path, mask_path"
   ]
  },
  {
   "cell_type": "code",
   "execution_count": null,
   "metadata": {},
   "outputs": [],
   "source": [
    "# Read CT\n",
    "vol = nib.load(vol_path)\n",
    "masks = nib.load(mask_path)"
   ]
  },
  {
   "cell_type": "code",
   "execution_count": null,
   "metadata": {},
   "outputs": [],
   "source": [
    "vol = np.asanyarray(vol.dataobj)\n",
    "masks = np.asanyarray(masks.dataobj)\n",
    "vol.shape, masks.shape"
   ]
  },
  {
   "cell_type": "code",
   "execution_count": null,
   "metadata": {},
   "outputs": [],
   "source": [
    "np.unique(masks[:,:,0])"
   ]
  },
  {
   "cell_type": "code",
   "execution_count": null,
   "metadata": {},
   "outputs": [],
   "source": [
    "#vol = rotate(vol, -90, resize=False)  \n",
    "#masks = rotate(masks, -90, resize=False)  "
   ]
  },
  {
   "cell_type": "code",
   "execution_count": null,
   "metadata": {},
   "outputs": [],
   "source": [
    "#np.unique(masks[:,:,0])"
   ]
  },
  {
   "cell_type": "code",
   "execution_count": null,
   "metadata": {},
   "outputs": [],
   "source": [
    "# Normalize\n",
    "vol = hu_window(vol)\n",
    "vol.shape"
   ]
  },
  {
   "cell_type": "code",
   "execution_count": null,
   "metadata": {},
   "outputs": [],
   "source": [
    "plt.imshow(vol[:,:,0], cmap='gray')"
   ]
  },
  {
   "cell_type": "code",
   "execution_count": null,
   "metadata": {},
   "outputs": [],
   "source": [
    "norm=plt.Normalize(0,3) # 4 classes including BG\n",
    "map_name = matplotlib.colors.LinearSegmentedColormap.from_list(\"\", [\"black\", \"red\",\"green\",\"blue\"])\n",
    "plt.imshow(masks[:,:,0], cmap=map_name, norm=norm)"
   ]
  },
  {
   "cell_type": "code",
   "execution_count": null,
   "metadata": {},
   "outputs": [],
   "source": [
    "masks[:,:,1].shape"
   ]
  },
  {
   "cell_type": "code",
   "execution_count": null,
   "metadata": {},
   "outputs": [],
   "source": [
    "np.unique(masks[:,:,1])"
   ]
  },
  {
   "cell_type": "code",
   "execution_count": null,
   "metadata": {},
   "outputs": [],
   "source": [
    "CLASSES = ['groundglass', 'consolidation', 'pleuraleffusion']\n",
    "class_values = [CLASSES.index(cls) for cls in CLASSES]\n",
    "class_values"
   ]
  },
  {
   "cell_type": "code",
   "execution_count": null,
   "metadata": {},
   "outputs": [],
   "source": [
    "# Extract certain classes from mask\n",
    "masks = [(masks == v) for v in class_values]\n",
    "masks = np.stack(masks, axis=-1).astype('float')\n",
    "# Add background if mask is not binary\n",
    "if masks.shape[-1] != 1:\n",
    "    background = 1 - masks.sum(axis=-1, keepdims=True)\n",
    "    masks = np.concatenate((masks, background), axis=-1)\n",
    "    \n",
    "masks.shape"
   ]
  },
  {
   "cell_type": "code",
   "execution_count": null,
   "metadata": {},
   "outputs": [],
   "source": [
    "ct = 1\n",
    "\n",
    "visualize(\n",
    "    image=vol[:,:,ct], \n",
    "    GroundGlass_mask = masks[:,:,ct,0],\n",
    "    Consolidation_mask = masks[:,:,ct,1],\n",
    "    PleuralEffusion_mask = masks[:,:,ct,2],\n",
    "    background_mask = masks[:,:,ct,3],\n",
    ")"
   ]
  },
  {
   "cell_type": "code",
   "execution_count": null,
   "metadata": {},
   "outputs": [],
   "source": [
    "images = []\n",
    "maps = []\n",
    "\n",
    "for idx in range(100):\n",
    "    \n",
    "    # Resize image\n",
    "    img = np.expand_dims(vol[:,:,idx], axis=-1) # resize(vol[:,:,idx], (256,256))\n",
    "    images.append(img)\n",
    "    \n",
    "    \n",
    "    # Resize masks\n",
    "    msk = masks[:,:,idx]\n",
    "    maps.append(msk)\n",
    "    \n",
    "images = np.array(images)\n",
    "maps = np.array(maps)\n",
    "\n",
    "print(images.shape, maps.shape)    "
   ]
  },
  {
   "cell_type": "code",
   "execution_count": null,
   "metadata": {},
   "outputs": [],
   "source": [
    "#for img, mask in zip(images[:5], maps[:5]):\n",
    "    \n",
    "#    norm=plt.Normalize(0,3) # 4 classes including BG\n",
    "#    map_name = matplotlib.colors.LinearSegmentedColormap.from_list(\"\", [\"black\", \"red\",\"green\",\"blue\"])\n",
    "\n",
    "    #mask = np.squeeze(mask, axis=-1) # change to H, W\n",
    "    \n",
    "    \n",
    "#    fig,_ = plt.subplots(nrows=1, ncols=2, figsize=(14,12))\n",
    "#    fig.axes[0].imshow(img.squeeze(), cmap='gray')\n",
    "#    fig.axes[1].imshow(mask,  cmap=map_name, norm=norm)\n",
    "#    plt.show()"
   ]
  },
  {
   "cell_type": "code",
   "execution_count": null,
   "metadata": {},
   "outputs": [],
   "source": [
    "images.shape, maps.shape"
   ]
  },
  {
   "cell_type": "code",
   "execution_count": null,
   "metadata": {},
   "outputs": [],
   "source": [
    "np.save(\"{}/COVID19_images.npy\".format(DATASET_PATH), images)\n",
    "np.save(\"{}/COVID19_mask.npy\".format(DATASET_PATH), maps)"
   ]
  },
  {
   "cell_type": "code",
   "execution_count": null,
   "metadata": {},
   "outputs": [],
   "source": []
  }
 ],
 "metadata": {
  "kernelspec": {
   "display_name": "Python 3",
   "language": "python",
   "name": "python3"
  },
  "language_info": {
   "codemirror_mode": {
    "name": "ipython",
    "version": 3
   },
   "file_extension": ".py",
   "mimetype": "text/x-python",
   "name": "python",
   "nbconvert_exporter": "python",
   "pygments_lexer": "ipython3",
   "version": "3.6.10"
  }
 },
 "nbformat": 4,
 "nbformat_minor": 4
}
