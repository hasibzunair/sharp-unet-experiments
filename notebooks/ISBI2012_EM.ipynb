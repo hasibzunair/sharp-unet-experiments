{
 "cells": [
  {
   "cell_type": "markdown",
   "metadata": {},
   "source": [
    "### Dataset link: http://brainiac2.mit.edu/isbi_challenge/downloads\n",
    "\n",
    "0 - membranes, 255 - non-membranes"
   ]
  },
  {
   "cell_type": "code",
   "execution_count": null,
   "metadata": {},
   "outputs": [],
   "source": [
    "# Import libraries\n",
    "\n",
    "import os\n",
    "import matplotlib.pyplot as plt\n",
    "%matplotlib inline\n",
    "\n",
    "from skimage.transform import resize\n",
    "import tifffile as tiff\n",
    "import numpy as np\n",
    "\n",
    "ROOT_DIR = os.path.abspath(\"../\")\n",
    "DATASET_NAME = \"ISBI2012\"\n",
    "DATASET_PATH = os.path.join(ROOT_DIR, \"datasets\", DATASET_NAME)\n",
    "print(os.listdir(DATASET_PATH))"
   ]
  },
  {
   "cell_type": "code",
   "execution_count": null,
   "metadata": {},
   "outputs": [],
   "source": [
    "# Read data\n",
    "\n",
    "imgs = tiff.imread('{}/train-volume.tif'.format(DATASET_PATH))\n",
    "masks = tiff.imread('{}/train-labels.tif'.format(DATASET_PATH))\n",
    "imgs.shape, masks.shape"
   ]
  },
  {
   "cell_type": "code",
   "execution_count": null,
   "metadata": {},
   "outputs": [],
   "source": []
  },
  {
   "cell_type": "code",
   "execution_count": null,
   "metadata": {},
   "outputs": [],
   "source": [
    "IMG_DIM = (256, 256)\n",
    "\n",
    "images_rs = []\n",
    "masks_rs = []\n",
    "\n",
    "for img, mask in zip(imgs, masks):    \n",
    "    img = np.expand_dims(resize(img, IMG_DIM), axis=-1)\n",
    "    mask = np.expand_dims(resize(mask, IMG_DIM).round(), axis=-1)\n",
    "    \n",
    "    images_rs.append(img)\n",
    "    masks_rs.append(mask)\n",
    "    \n",
    "images_rs = np.array(images_rs)\n",
    "masks_rs = np.array(masks_rs)\n",
    "images_rs.shape, masks_rs.shape"
   ]
  },
  {
   "cell_type": "code",
   "execution_count": null,
   "metadata": {},
   "outputs": [],
   "source": []
  },
  {
   "cell_type": "code",
   "execution_count": null,
   "metadata": {},
   "outputs": [],
   "source": [
    "for img, mask in zip(images_rs[:10], masks_rs[:10]):\n",
    "    \n",
    "    img = np.squeeze(img, axis=-1)\n",
    "    mask = np.squeeze(mask, axis=-1)\n",
    "    \n",
    "    fig,_ = plt.subplots(nrows=1, ncols=2)\n",
    "    fig.axes[0].imshow(img, cmap='gray')\n",
    "    fig.axes[1].imshow(mask, cmap='gray')\n",
    "    plt.show()\n",
    "    "
   ]
  },
  {
   "cell_type": "code",
   "execution_count": null,
   "metadata": {},
   "outputs": [],
   "source": [
    "images_rs.shape, masks_rs.shape"
   ]
  },
  {
   "cell_type": "code",
   "execution_count": null,
   "metadata": {},
   "outputs": [],
   "source": [
    "np.save(\"{}/ISBI2012_EM_images.npy\".format(DATASET_PATH), images_rs)\n",
    "np.save(\"{}/ISBI2012_EM_mask.npy\".format(DATASET_PATH), masks_rs)"
   ]
  },
  {
   "cell_type": "code",
   "execution_count": null,
   "metadata": {},
   "outputs": [],
   "source": []
  }
 ],
 "metadata": {
  "kernelspec": {
   "display_name": "Python 3",
   "language": "python",
   "name": "python3"
  },
  "language_info": {
   "codemirror_mode": {
    "name": "ipython",
    "version": 3
   },
   "file_extension": ".py",
   "mimetype": "text/x-python",
   "name": "python",
   "nbconvert_exporter": "python",
   "pygments_lexer": "ipython3",
   "version": "3.6.10"
  }
 },
 "nbformat": 4,
 "nbformat_minor": 4
}
