{
 "cells": [
  {
   "cell_type": "markdown",
   "metadata": {},
   "source": [
    "### Dataset link: https://www.kaggle.com/kmader/finding-lungs-in-ct-data/data"
   ]
  },
  {
   "cell_type": "code",
   "execution_count": null,
   "metadata": {},
   "outputs": [],
   "source": [
    "# Import libraries\n",
    "\n",
    "import os\n",
    "import matplotlib.pyplot as plt\n",
    "%matplotlib inline\n",
    "\n",
    "from skimage.transform import resize\n",
    "from skimage.segmentation import mark_boundaries, find_boundaries\n",
    "from skimage import io\n",
    "import tifffile as tiff\n",
    "import numpy as np\n",
    "from tqdm import tqdm\n",
    "from mpl_toolkits.axes_grid1 import make_axes_locatable\n",
    "from scipy.ndimage.morphology import binary_erosion, binary_fill_holes\n",
    "import nibabel as nib\n",
    "import glob\n",
    "\n",
    "ROOT_DIR = os.path.abspath(\"../\")\n",
    "DATASET_NAME = \"Lung-Segmentation\"\n",
    "DATASET_PATH = os.path.join(ROOT_DIR, \"datasets\", DATASET_NAME)\n",
    "print(os.listdir(DATASET_PATH))"
   ]
  },
  {
   "cell_type": "code",
   "execution_count": null,
   "metadata": {},
   "outputs": [],
   "source": [
    "# From https://github.com/rezazad68/BCDU-Net/blob/master/Lung%20Segmentation/Reza_functions.py\n",
    "def hu_to_grayscale(volume):\n",
    "    volume = np.clip(volume, -512, 512)\n",
    "    mxval  = np.max(volume)\n",
    "    mnval  = np.min(volume)\n",
    "    im_volume = (volume - mnval)/max(mxval - mnval, 1e-3)\n",
    "    im_volume = im_volume\n",
    "    return im_volume *255\n",
    "\n",
    "\n",
    "\n",
    "def get_mask_alung(vol):\n",
    "    vol_im = np.where(vol>0, 1, 0)\n",
    "    shp    = vol.shape\n",
    "    around_lung = np.zeros((shp[0], shp[1], shp[2]), dtype=np.float32)\n",
    "    for idx in range(shp[0]):\n",
    "            around_lung[idx, :, :] = binary_erosion(vol_im[idx], structure=np.ones((15,15))).astype(vol_im.dtype)\n",
    "            \n",
    "    return around_lung\n",
    "\n",
    "\n",
    "\n",
    "def get_mask(segmentation):\n",
    "    # initialize output to zeros\n",
    "    shp    = segmentation.shape\n",
    "    lung = np.zeros((shp[0], shp[1], shp[2]), dtype=np.float32)\n",
    "   \n",
    "    # Get mask for kidney and tumor\n",
    "    lung[np.equal(segmentation,255)] = 255\n",
    "    \n",
    "    return lung\n",
    "    \n",
    "    \n",
    "    \n",
    "def get_FOV(around_lung, lung):\n",
    "    FOV = np.where((around_lung + lung) >0, 1, 0)\n",
    "    for idx in range(FOV.shape[0]):\n",
    "        FOV[idx, :, :] = binary_fill_holes(FOV[idx, :, :], structure=np.ones((5,5))).astype(FOV.dtype)\n",
    "    return FOV\n",
    "\n",
    "\n",
    "\n",
    "def return_axials(vol, seg):\n",
    "\n",
    "    # Prepare segmentation and volume\n",
    "    vol = vol.get_data()\n",
    "    seg = seg.get_data()\n",
    "    seg = seg.astype(np.int32)\n",
    "    \n",
    "    # Convert to a visual format\n",
    "    vol_ims = hu_to_grayscale(vol)\n",
    "    lung    = get_mask(seg)\n",
    "    #around_lung = get_mask_alung(vol_ims)\n",
    "    #FOV = get_FOV(around_lung, lung)\n",
    "    #around_lung = np.where((FOV - lung) >0, 1, 0)\n",
    "\n",
    "    return vol_ims, lung #, around_lung, FOV"
   ]
  },
  {
   "cell_type": "code",
   "execution_count": null,
   "metadata": {},
   "outputs": [],
   "source": [
    "# Read train data\n",
    "idx_count =1\n",
    "train_vol_path = \"{}/3d_images/\".format(DATASET_PATH) #next(os.walk(\"{}/3d_images/\".format(DATASET_PATH)))[2]\n",
    "train_vol_files_list = glob.glob(train_vol_path + '/*.gz')\n",
    "len(train_vol_files_list)"
   ]
  },
  {
   "cell_type": "code",
   "execution_count": null,
   "metadata": {},
   "outputs": [],
   "source": [
    "# Define Train data and mask\n",
    "images_rs   = []\n",
    "masks_rs   = []"
   ]
  },
  {
   "cell_type": "code",
   "execution_count": null,
   "metadata": {},
   "outputs": [],
   "source": [
    "IMG_DIM = (256, 256)\n",
    "\n",
    "\n",
    "for idx in tqdm(range(len(train_vol_files_list))): \n",
    "    \n",
    "    # Get path\n",
    "    b = train_vol_files_list[idx]\n",
    "    \n",
    "    # Get IMG from path\n",
    "    a = b[len(train_vol_path):len(train_vol_path)+3]\n",
    "    if a=='IMG':\n",
    "        \n",
    "        print(idx_count)\n",
    "        \n",
    "        # Get mask path\n",
    "        a = b[len(train_vol_path)+4:len(b)]\n",
    "        mask_path = (train_vol_path+'MASK_' + a)\n",
    "\n",
    "        # Read volume and mask\n",
    "        vol = nib.load(train_vol_files_list[idx])\n",
    "        seg = nib.load(mask_path)\n",
    "        \n",
    "        print(\"Shape of scan: \", vol.shape)\n",
    "        \n",
    "        # Get the axials images and corresponding masks\n",
    "        #vol_ims, lung, around_lung, FOV = return_axials(vol, seg)\n",
    "        vol_ims, lung = return_axials(vol, seg)\n",
    "        segmentation  = seg.get_data()\n",
    "        \n",
    "       # Insert samples to the Train data, which has the segmentation label\n",
    "        for idx in range(vol.shape[0]):\n",
    "            # add if mask exists\n",
    "            if ~( np.sum(np.sum(np.sum(segmentation[idx, :, :]))) == 0):\n",
    "                \n",
    "                # Resize\n",
    "                img = np.expand_dims(resize(vol_ims [idx, :, :], IMG_DIM), axis=-1)\n",
    "                mask = np.expand_dims(resize(lung[idx, :, :], IMG_DIM).round(), axis=-1)\n",
    "                images_rs.append(img)\n",
    "                masks_rs.append(mask)               \n",
    "        \n",
    "        idx_count += 1\n",
    "        \n",
    "        \n",
    "\n",
    "images_rs = np.array(images_rs)\n",
    "masks_rs = np.array(masks_rs)\n",
    "images_rs.shape, masks_rs.shape"
   ]
  },
  {
   "cell_type": "code",
   "execution_count": null,
   "metadata": {},
   "outputs": [],
   "source": [
    "for img, mask in zip(images_rs[1000:1010], masks_rs[1000:1010]):\n",
    "    \n",
    "    img = np.squeeze(img, axis=-1) # change to H, W\n",
    "    mask = np.squeeze(mask, axis=-1) # change to H, W\n",
    "    \n",
    "    \n",
    "    fig,_ = plt.subplots(nrows=1, ncols=2, figsize=(14,12))\n",
    "    fig.axes[0].imshow(img)\n",
    "    fig.axes[1].imshow(mask, cmap='gray')\n",
    "    plt.show()"
   ]
  },
  {
   "cell_type": "code",
   "execution_count": null,
   "metadata": {},
   "outputs": [],
   "source": [
    "plt.rcParams['figure.figsize'] = (20, 5)\n",
    "plt.title(\"Example images\")\n",
    "plt.figsize=(14,12)\n",
    "plt.imshow(np.concatenate(images_rs[130:135].squeeze().transpose((0,1,2)),axis=1), cmap='gray', interpolation='none')"
   ]
  },
  {
   "cell_type": "code",
   "execution_count": null,
   "metadata": {},
   "outputs": [],
   "source": [
    "fig = plt.figure(1, figsize=(20, 5))\n",
    "ax = plt.gca()\n",
    "im = ax.imshow(np.concatenate(masks_rs[130:135,:,:,0],axis=1), cmap='magma', interpolation='none') # cmap='bwr'\n",
    "divider = make_axes_locatable(ax) \n",
    "cax = divider.append_axes(\"right\", size=\"5%\", pad=0.1)\n",
    "plt.colorbar(im, cax=cax)"
   ]
  },
  {
   "cell_type": "code",
   "execution_count": null,
   "metadata": {},
   "outputs": [],
   "source": [
    "images_rs.shape, masks_rs.shape"
   ]
  },
  {
   "cell_type": "code",
   "execution_count": null,
   "metadata": {},
   "outputs": [],
   "source": [
    "np.save(\"{}/LUNGS_images.npy\".format(DATASET_PATH), images_rs)\n",
    "np.save(\"{}/LUNGS_mask.npy\".format(DATASET_PATH), masks_rs)"
   ]
  },
  {
   "cell_type": "code",
   "execution_count": null,
   "metadata": {},
   "outputs": [],
   "source": []
  }
 ],
 "metadata": {
  "kernelspec": {
   "display_name": "Python 3",
   "language": "python",
   "name": "python3"
  },
  "language_info": {
   "codemirror_mode": {
    "name": "ipython",
    "version": 3
   },
   "file_extension": ".py",
   "mimetype": "text/x-python",
   "name": "python",
   "nbconvert_exporter": "python",
   "pygments_lexer": "ipython3",
   "version": "3.6.10"
  }
 },
 "nbformat": 4,
 "nbformat_minor": 4
}
